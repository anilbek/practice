{
 "cells": [
  {
   "cell_type": "code",
   "execution_count": null,
   "id": "4bb1ae3a-403e-42b5-85c4-e332a2cda6c1",
   "metadata": {},
   "outputs": [],
   "source": [
    "import mlflow\n",
    "import mlflow\n",
    "from mlflow.pyfunc.model import PythonModel"
   ]
  },
  {
   "cell_type": "code",
   "execution_count": null,
   "id": "f345a5b6-977f-45c0-8725-c4c93e63a118",
   "metadata": {},
   "outputs": [],
   "source": [
    "class RandomPredictor(PythonModel):\n",
    "    def __init__(self):\n",
    "        pass\n",
    "    def predict(self, context, model_input):\n",
    "        return model_input.apply(lambda column: random.randint(3,8))"
   ]
  },
  {
   "cell_type": "code",
   "execution_count": null,
   "id": "43d98a06-eb52-42cf-9a42-d76227c0ee9e",
   "metadata": {},
   "outputs": [],
   "source": [
    "model_path = \"random_model\"\n",
    "baseline_model = RandomPredictor()\n",
    "mlflow.pyfunc.save_model(path=model_path, python_model=baseline_model)"
   ]
  },
  {
   "cell_type": "code",
   "execution_count": null,
   "id": "7aaa5834-ecdd-4248-b40d-903101ffe180",
   "metadata": {},
   "outputs": [],
   "source": [
    "# Load the model in `python_function` to check if load works\n",
    "loaded_model = mlflow.pyfunc.load_model(model_path)"
   ]
  },
  {
   "cell_type": "code",
   "execution_count": null,
   "id": "69768b36-0e9f-40f3-a318-3a9779b16b6e",
   "metadata": {},
   "outputs": [],
   "source": [
    "import pandas as pd\n",
    "model_input = pd.DataFrame([range(11)])\n",
    "\n",
    "random_predictor = RandomPredictor()\n",
    "\n",
    "mlflow.set_experiment('winepred_experiment')\n",
    "with mlflow.start_run():\n",
    "    model_output = loaded_model.predict(model_input)\n",
    "\n",
    "    mlflow.log_metric(\"random_predictor_result\",value = model_output)\n",
    "    mlflow.log_artifact(\"winepred_randomizer.ipynb\")"
   ]
  },
  {
   "cell_type": "code",
   "execution_count": null,
   "id": "43e7e28f-9084-46db-94a6-a9114bfd2d88",
   "metadata": {},
   "outputs": [],
   "source": [
    "print(model_output)"
   ]
  }
 ],
 "metadata": {
  "kernelspec": {
   "display_name": "Python 3 (ipykernel)",
   "language": "python",
   "name": "python3"
  },
  "language_info": {
   "codemirror_mode": {
    "name": "ipython",
    "version": 3
   },
   "file_extension": ".py",
   "mimetype": "text/x-python",
   "name": "python",
   "nbconvert_exporter": "python",
   "pygments_lexer": "ipython3",
   "version": "3.8.13"
  }
 },
 "nbformat": 4,
 "nbformat_minor": 5
}
