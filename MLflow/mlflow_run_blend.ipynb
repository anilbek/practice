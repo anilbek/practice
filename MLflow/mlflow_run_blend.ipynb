{
 "cells": [
  {
   "cell_type": "code",
   "execution_count": 1,
   "id": "b2a4f9c6-f371-405e-a47a-3fa77d8315a3",
   "metadata": {},
   "outputs": [],
   "source": [
    "import numpy as np\n",
    "import pandas as pd\n",
    "from sklearn.model_selection import train_test_split\n",
    "from sklearn.ensemble import VotingRegressor\n",
    "from sklearn.ensemble import GradientBoostingRegressor\n",
    "from sklearn.svm import SVR\n",
    "from sklearn.metrics import mean_absolute_error\n",
    "import mlflow.sklearn"
   ]
  },
  {
   "cell_type": "code",
   "execution_count": 2,
   "id": "d7e3b1f5-57db-48c7-9eee-d69e0ca2942a",
   "metadata": {},
   "outputs": [],
   "source": [
    "wine = pd.read_csv('winequality-red.csv')\n",
    "\n",
    "X = wine.drop('quality', axis=1)\n",
    "y = wine.quality\n",
    "X_train, X_test, y_train, y_test = train_test_split(X, y, test_size=0.2, random_state=42, stratify=y)"
   ]
  },
  {
   "cell_type": "code",
   "execution_count": 3,
   "id": "c3be66fa-833b-4e47-83f5-3e28aadf1f53",
   "metadata": {},
   "outputs": [],
   "source": [
    "mlflow.set_experiment(\"experiments\")\n",
    "mlflow.sklearn.autolog()"
   ]
  },
  {
   "cell_type": "code",
   "execution_count": null,
   "id": "1ce8a169-0c69-4b14-8841-43c3610913cb",
   "metadata": {},
   "outputs": [],
   "source": []
  },
  {
   "cell_type": "code",
   "execution_count": 4,
   "id": "ccb4f64f-9a5e-4da6-ac1b-b32aa90bf973",
   "metadata": {},
   "outputs": [
    {
     "name": "stderr",
     "output_type": "stream",
     "text": [
      "2022/11/27 22:10:10 WARNING mlflow.utils.autologging_utils: MLflow autologging encountered a warning: \"C:\\Users\\ANL\\AppData\\Roaming\\jupyterlab-desktop\\jlab_server\\lib\\site-packages\\_distutils_hack\\__init__.py:33: UserWarning: Setuptools is replacing distutils.\"\n"
     ]
    }
   ],
   "source": [
    "from mlflow.models.signature import infer_signature\n",
    "\n",
    "with mlflow.start_run(run_name = 'blend') as run:\n",
    "\n",
    "    gbm = GradientBoostingRegressor(n_estimators=500, subsample=0.9, max_depth=12, learning_rate=0.1, random_state=42)\n",
    "    svr = SVR(C=10.0, gamma=0.3, epsilon=0.0001)\n",
    "    blender = VotingRegressor(estimators=[('gbm', gbm), ('svm', svr)],n_jobs=-2)\n",
    "    blender.fit(X_train, y_train)\n",
    "\n",
    "    preds = blender.predict(X_test)\n",
    "    \n",
    "    signature = infer_signature(X_train, blender.predict(X_train))\n",
    "    mlflow.sklearn.log_model(blender, \"model_blend\", signature=signature)\n",
    "\n",
    "    mae = mean_absolute_error(y_test, np.round(preds))\n",
    "\n",
    "    mlflow.log_metric(\"mae\", value = mean_absolute_error(y_test, np.round(preds)))"
   ]
  },
  {
   "cell_type": "code",
   "execution_count": null,
   "id": "5a8e4eab-8029-432a-bc7a-2c56a3347480",
   "metadata": {},
   "outputs": [],
   "source": [
    "# code to load this model at any time to perform tests on it\n",
    "\n",
    "import mlflow\n",
    "logged_model = '/data/artifacts/1/2dc083e362bd419396ae1d05d92a06d1/artifacts/model'\n",
    "\n",
    "# Load model as a PyFuncModel.\n",
    "loaded_model = mlflow.pyfunc.load_model(logged_model)\n",
    "\n",
    "# Predict on a Pandas DataFrame.\n",
    "import pandas as pd\n",
    "loaded_model.predict(pd.DataFrame(X_test))"
   ]
  }
 ],
 "metadata": {
  "kernelspec": {
   "display_name": "Python 3 (ipykernel)",
   "language": "python",
   "name": "python3"
  },
  "language_info": {
   "codemirror_mode": {
    "name": "ipython",
    "version": 3
   },
   "file_extension": ".py",
   "mimetype": "text/x-python",
   "name": "python",
   "nbconvert_exporter": "python",
   "pygments_lexer": "ipython3",
   "version": "3.8.13"
  }
 },
 "nbformat": 4,
 "nbformat_minor": 5
}
