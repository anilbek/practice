{
 "cells": [
  {
   "cell_type": "code",
   "execution_count": null,
   "id": "55b50135-11a9-4274-b7f5-78859a6e93a0",
   "metadata": {},
   "outputs": [],
   "source": [
    "from hyperopt import tpe\n",
    "from hyperopt import STATUS_OK\n",
    "from hyperopt import Trials\n",
    "from hyperopt import hp\n",
    "from hyperopt import fmin\n",
    "from cuml.model_selection import train_test_split\n",
    "from cuml.ensemble import VotingRegressor\n",
    "from cuml.ensemble import GradientBoostingRegressor\n",
    "from cuml.svm import SVR\n",
    "from cuml.metrics import mean_absolute_error\n",
    "from cuml.model_selection import cross_val_score\n",
    "import mlflow.sklearn\n",
    "import pandas as pd\n",
    "import mlflow"
   ]
  },
  {
   "cell_type": "code",
   "execution_count": null,
   "id": "382e336d-2bec-4130-8d08-3872e7111646",
   "metadata": {},
   "outputs": [],
   "source": [
    "wine = pd.read_csv('winequality-red.csv')\n",
    "\n",
    "X = wine.drop('quality', axis=1)\n",
    "y = wine.quality\n",
    "X_train, X_test, y_train, y_test = train_test_split(X, y, test_size=0.2, random_state=42, stratify=y)"
   ]
  },
  {
   "cell_type": "code",
   "execution_count": null,
   "id": "b1114ce5-09ff-4c60-a36e-a6b2572038de",
   "metadata": {},
   "outputs": [],
   "source": [
    "# define objective function\n",
    "\n",
    "def objective(params):\n",
    "    mlflow.sklearn.autolog()\n",
    "    with mlflow.start_run(nested=True):\n",
    "        gbm = GradientBoostingRegressor()\n",
    "        svr = SVR()\n",
    "        blender = VotingRegressor(**params, random_state = 0, estimators = [('gbm', gbm), ('svm', svr)], n_jobs = -2)\n",
    "        \n",
    "        mae = cross_val_score(blender, X_train, y_train, cv = 5, scoring = \"mae\")\n",
    "        return {'loss': min(mae), 'params': params, 'status': STATUS_OK}"
   ]
  },
  {
   "cell_type": "code",
   "execution_count": null,
   "id": "61328c64-1e65-451c-8e5e-0318e1fb46fd",
   "metadata": {},
   "outputs": [],
   "source": [
    "space = {\n",
    "    \"n_estimators\": hp.choice(\"n_estimators\", [500, 600, 700]),\n",
    "    \"max_depth\": hp.uniform(\"max_depth\", 2, 15),\n",
    "    \"learning_rate\": hp.choice(\"learning_rate\", [0.1, 0.01]),\n",
    "    \"C\": hp.uniform(\"C\", 5, 15])\n",
    "}"
   ]
  },
  {
   "cell_type": "code",
   "execution_count": null,
   "id": "df6af2c5-b105-45de-9e19-5d93401df39d",
   "metadata": {},
   "outputs": [],
   "source": [
    "mlflow.set_experiment(\"Hyperopt_Optimization\")\n",
    "\n",
    "with mlflow.start_run():\n",
    "    best = fmin(fn = objective, space = space, algo = tpe.suggest, max_evals = 10, trials = Trials())\n",
    "    mlflow.log_params(best)"
   ]
  },
  {
   "cell_type": "code",
   "execution_count": null,
   "id": "09ee3668-a982-4541-9f87-9bb6de072a61",
   "metadata": {},
   "outputs": [],
   "source": [
    "trials.results"
   ]
  },
  {
   "cell_type": "code",
   "execution_count": null,
   "id": "f56d1a7f-6cf1-47c3-90d6-71bc6c184caf",
   "metadata": {},
   "outputs": [],
   "source": [
    "best"
   ]
  }
 ],
 "metadata": {
  "kernelspec": {
   "display_name": "Python 3 (ipykernel)",
   "language": "python",
   "name": "python3"
  },
  "language_info": {
   "codemirror_mode": {
    "name": "ipython",
    "version": 3
   },
   "file_extension": ".py",
   "mimetype": "text/x-python",
   "name": "python",
   "nbconvert_exporter": "python",
   "pygments_lexer": "ipython3",
   "version": "3.8.13"
  }
 },
 "nbformat": 4,
 "nbformat_minor": 5
}
