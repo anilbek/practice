{
 "cells": [
  {
   "cell_type": "code",
   "execution_count": null,
   "id": "737feab3-7f51-49b3-bb5f-e17c84c04e30",
   "metadata": {},
   "outputs": [],
   "source": [
    "import pandas\n",
    "import numpy as np\n",
    "import mlflow\n",
    "import tensorflow\n",
    "from tensorflow import keras\n",
    "import mlflow.keras\n",
    "from sklearn.model_selection import train_test_split"
   ]
  },
  {
   "cell_type": "code",
   "execution_count": null,
   "id": "f1417edc-c7ca-4fc6-84c7-8b8555aaf2c3",
   "metadata": {},
   "outputs": [],
   "source": [
    "wine = pd.read_csv('winequality-red.csv')\n",
    "\n",
    "X = wine.drop('quality', axis=1)\n",
    "y = wine.quality\n",
    "X_train, X_test, y_train, y_test = train_test_split(X, y, test_size=0.2, random_state=42, stratify=y)"
   ]
  },
  {
   "cell_type": "code",
   "execution_count": null,
   "id": "930477f3-d32a-4dce-8948-08e29f049883",
   "metadata": {},
   "outputs": [],
   "source": [
    "mlflow.set_experiment(\"experiments\")\n",
    "mlflow.tensorflow.autolog()"
   ]
  },
  {
   "cell_type": "code",
   "execution_count": null,
   "id": "33901b89-0e22-4dbd-b317-143936c0fffa",
   "metadata": {},
   "outputs": [],
   "source": [
    "model = keras.Sequential([\n",
    "  keras.layers.Dense(\n",
    "    36,\n",
    "    activation='relu',\n",
    "    input_shape=(X_train.shape[-1],)\n",
    "  ),\n",
    "  keras.layers.BatchNormalization(),\n",
    "  keras.layers.Dense(1),\n",
    "])\n",
    "\n",
    "model.compile(\n",
    "  optimizer=keras.optimizers.Adam(lr=0.001),\n",
    "  loss=\"mae\",\n",
    "  metrics=\"mae\"\n",
    ")"
   ]
  },
  {
   "cell_type": "code",
   "execution_count": null,
   "id": "b776d5f1-d4fc-4f78-8f77-a43962761b2b",
   "metadata": {},
   "outputs": [],
   "source": [
    "with mlflow.start_run(run_name='keras') as run:\n",
    "    model.fit(\n",
    "        X_train,\n",
    "        y_train,\n",
    "        epochs=30,\n",
    "        validation_split=0.1,\n",
    "        shuffle=True,\n",
    "        verbose=0\n",
    "    )\n",
    "    _, test_mae = model.evaluate(X_test, y_test, verbose=0)\n",
    "    mlflow.log_metric(key=\"mae\", value=test_mae)"
   ]
  }
 ],
 "metadata": {
  "kernelspec": {
   "display_name": "Python 3 (ipykernel)",
   "language": "python",
   "name": "python3"
  },
  "language_info": {
   "codemirror_mode": {
    "name": "ipython",
    "version": 3
   },
   "file_extension": ".py",
   "mimetype": "text/x-python",
   "name": "python",
   "nbconvert_exporter": "python",
   "pygments_lexer": "ipython3",
   "version": "3.8.13"
  }
 },
 "nbformat": 4,
 "nbformat_minor": 5
}
