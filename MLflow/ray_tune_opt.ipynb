{
 "cells": [
  {
   "cell_type": "code",
   "execution_count": null,
   "id": "55b50135-11a9-4274-b7f5-78859a6e93a0",
   "metadata": {},
   "outputs": [],
   "source": [
    "from cuml.model_selection import train_test_split\n",
    "from cuml.ensemble import VotingRegressor\n",
    "from cuml.ensemble import GradientBoostingRegressor\n",
    "from cuml.svm import SVR\n",
    "from cuml.metrics import mean_absolute_error\n",
    "from cuml.model_selection import cross_val_score\n",
    "import mlflow.sklearn\n",
    "import pandas as pd\n",
    "import mlflow\n",
    "import logging\n",
    "import os\n",
    "from ray import tune\n",
    "from ray.tune.integration.mlflow import mlflow_mixin\n",
    "from ray.tune.suggest import ConcurrencyLimiter\n",
    "from ray.tune.schedulers import AsyncHyperBandScheduler\n",
    "from ray.tune.suggest.optuna import OptunaSearch"
   ]
  },
  {
   "cell_type": "code",
   "execution_count": null,
   "id": "382e336d-2bec-4130-8d08-3872e7111646",
   "metadata": {},
   "outputs": [],
   "source": [
    "wine = pd.read_csv('winequality-red.csv')\n",
    "\n",
    "X = wine.drop('quality', axis=1)\n",
    "y = wine.quality\n",
    "X_train, X_test, y_train, y_test = train_test_split(X, y, test_size=0.2, random_state=42, stratify=y)\n",
    "\n",
    "logging.basicConfig(level=logging.INFO, format=\"%(asctime)-15s %(message)s\")\n",
    "logger = logging.getLogger()"
   ]
  },
  {
   "cell_type": "code",
   "execution_count": null,
   "id": "b1114ce5-09ff-4c60-a36e-a6b2572038de",
   "metadata": {},
   "outputs": [],
   "source": [
    "# define objective function\n",
    "@mlflow_mixin\n",
    "def finetuning_model(config):\n",
    "    mlflow.sklearn.autolog()\n",
    "    gbm = GradientBoostingRegressor(config['n_estimators'], config['max_depth'], config['learning_rate'])\n",
    "    svr = SVR(config['C'])\n",
    "    blender = VotingRegressor(random_state = 0, estimators = [('gbm', gbm), ('svm', svr)], n_jobs = -2)\n",
    "    mae = cross_val_score(blender, X_train, y_train, cv = 5, scoring = \"mae\")"
   ]
  },
  {
   "cell_type": "code",
   "execution_count": null,
   "id": "5c836089-22d3-40ca-9fa7-df83c0baf608",
   "metadata": {},
   "outputs": [],
   "source": [
    "def run_hpo_model(num_samples = 10, tracking_uri = None, experiment_name = 'ray_tune_optimization'):\n",
    "\n",
    "    mlflow.set_tracking_uri(tracking_uri)\n",
    "    mlflow.set_experiment(experiment_name)\n",
    "    \n",
    "    # define search algo and scheduler\n",
    "    searcher = OptunaSearch()\n",
    "    searcher = ConcurrencyLimiter(searcher, max_concurrent=4)\n",
    "    scheduler = AsyncHyperBandScheduler()\n",
    "\n",
    "    config = {\n",
    "        \"n_estimators\": tune.choice(\"n_estimators\", [500, 600, 700]),\n",
    "        \"max_depth\": tune.uniform(\"max_depth\", 2, 15),\n",
    "        \"learning_rate\": tune.choice(\"learning_rate\", [0.1, 0.01]),\n",
    "        \"C\": tune.uniform(\"C\", 5, 15)\n",
    "        \"mlflow\": {\n",
    "                \"experiment_name\": experiment_name,\n",
    "                \"tracking_uri\": mlflow.get_tracking_uri()},\n",
    "    }\n",
    "    \n",
    "    trainable = tune.with_parameters(finetuning_model)\n",
    "    \n",
    "    analysis = tune.run(\n",
    "    trainable,\n",
    "    resources_per_trial={\"cpu\": 1,},\n",
    "    metric=\"mean_absolute_error\",\n",
    "    mode=\"min\",\n",
    "    config=config,\n",
    "    num_samples=num_samples,\n",
    "    search_alg=searcher,\n",
    "    scheduler=scheduler,\n",
    "    name=\"ray_tuning_model\")\n",
    "    \n",
    "    logger.info(\"Best hyperparameters found were: %s\", analysis.best_config)\n",
    "\n",
    "def task():\n",
    "    run_hpo_dl_model(num_samples=10,\n",
    "                     tracking_uri=\"http://localhost\",\n",
    "                     experiment_name=\"hpo-tuning-chapter06\")\n",
    "\n",
    "\n",
    "if __name__ == '__main__':\n",
    "    task()"
   ]
  }
 ],
 "metadata": {
  "kernelspec": {
   "display_name": "Python 3 (ipykernel)",
   "language": "python",
   "name": "python3"
  },
  "language_info": {
   "codemirror_mode": {
    "name": "ipython",
    "version": 3
   },
   "file_extension": ".py",
   "mimetype": "text/x-python",
   "name": "python",
   "nbconvert_exporter": "python",
   "pygments_lexer": "ipython3",
   "version": "3.8.12"
  }
 },
 "nbformat": 4,
 "nbformat_minor": 5
}
