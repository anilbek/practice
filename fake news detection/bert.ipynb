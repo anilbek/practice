{
 "cells": [
  {
   "cell_type": "code",
   "execution_count": 1,
   "id": "1ba76ebc-7703-46d1-9116-febc058d651e",
   "metadata": {},
   "outputs": [],
   "source": [
    "from transformers import TFBertForSequenceClassification, BertTokenizerFast\n",
    "import numpy as np\n",
    "import tensorflow as tf"
   ]
  },
  {
   "cell_type": "code",
   "execution_count": 2,
   "id": "617284c4-7b8e-401c-a13f-27f21ce92f27",
   "metadata": {},
   "outputs": [],
   "source": [
    "from datasets import concatenate_datasets, load_dataset"
   ]
  },
  {
   "cell_type": "code",
   "execution_count": 3,
   "id": "a9d05aa6-bf8e-4740-b2d8-43b44379024c",
   "metadata": {},
   "outputs": [],
   "source": [
    "fake = load_dataset('csv', data_files='fake.csv', nrows = 10, usecols = ['title', 'text'], split= 'train')\n",
    "true = load_dataset('csv', data_files='true.csv', nrows = 10, usecols = ['title', 'text'], split = 'train')"
   ]
  },
  {
   "cell_type": "code",
   "execution_count": 4,
   "id": "a68748fd-b2d2-4dd5-9ca8-b79e216bf982",
   "metadata": {},
   "outputs": [
    {
     "data": {
      "text/plain": [
       "Dataset({\n",
       "    features: ['title', 'text'],\n",
       "    num_rows: 10\n",
       "})"
      ]
     },
     "execution_count": 4,
     "metadata": {},
     "output_type": "execute_result"
    }
   ],
   "source": [
    "fake"
   ]
  },
  {
   "cell_type": "code",
   "execution_count": 5,
   "id": "62386685-463e-48d0-b928-a596b04ba51b",
   "metadata": {},
   "outputs": [
    {
     "data": {
      "text/plain": [
       "{'title': ' Donald Trump Sends Out Embarrassing New Year’s Eve Message; This is Disturbing',\n",
       " 'text': 'Donald Trump just couldn t wish all Americans a Happy New Year and leave it at that. Instead, he had to give a shout out to his enemies, haters and  the very dishonest fake news media.  The former reality show star had just one job to do and he couldn t do it. As our Country rapidly grows stronger and smarter, I want to wish all of my friends, supporters, enemies, haters, and even the very dishonest Fake News Media, a Happy and Healthy New Year,  President Angry Pants tweeted.  2018 will be a great year for America! As our Country rapidly grows stronger and smarter, I want to wish all of my friends, supporters, enemies, haters, and even the very dishonest Fake News Media, a Happy and Healthy New Year. 2018 will be a great year for America!  Donald J. Trump (@realDonaldTrump) December 31, 2017Trump s tweet went down about as welll as you d expect.What kind of president sends a New Year s greeting like this despicable, petty, infantile gibberish? Only Trump! His lack of decency won t even allow him to rise above the gutter long enough to wish the American citizens a happy new year!  Bishop Talbert Swan (@TalbertSwan) December 31, 2017no one likes you  Calvin (@calvinstowell) December 31, 2017Your impeachment would make 2018 a great year for America, but I ll also accept regaining control of Congress.  Miranda Yaver (@mirandayaver) December 31, 2017Do you hear yourself talk? When you have to include that many people that hate you you have to wonder? Why do the they all hate me?  Alan Sandoval (@AlanSandoval13) December 31, 2017Who uses the word Haters in a New Years wish??  Marlene (@marlene399) December 31, 2017You can t just say happy new year?  Koren pollitt (@Korencarpenter) December 31, 2017Here s Trump s New Year s Eve tweet from 2016.Happy New Year to all, including to my many enemies and those who have fought me and lost so badly they just don t know what to do. Love!  Donald J. Trump (@realDonaldTrump) December 31, 2016This is nothing new for Trump. He s been doing this for years.Trump has directed messages to his  enemies  and  haters  for New Year s, Easter, Thanksgiving, and the anniversary of 9/11. pic.twitter.com/4FPAe2KypA  Daniel Dale (@ddale8) December 31, 2017Trump s holiday tweets are clearly not presidential.How long did he work at Hallmark before becoming President?  Steven Goodine (@SGoodine) December 31, 2017He s always been like this . . . the only difference is that in the last few years, his filter has been breaking down.  Roy Schulze (@thbthttt) December 31, 2017Who, apart from a teenager uses the term haters?  Wendy (@WendyWhistles) December 31, 2017he s a fucking 5 year old  Who Knows (@rainyday80) December 31, 2017So, to all the people who voted for this a hole thinking he would change once he got into power, you were wrong! 70-year-old men don t change and now he s a year older.Photo by Andrew Burton/Getty Images.'}"
      ]
     },
     "execution_count": 5,
     "metadata": {},
     "output_type": "execute_result"
    }
   ],
   "source": [
    "fake[0]"
   ]
  },
  {
   "cell_type": "code",
   "execution_count": 6,
   "id": "004ed6e6-a1dd-41b5-89d5-6d04fd92b1de",
   "metadata": {},
   "outputs": [
    {
     "data": {
      "text/plain": [
       "{'title': Value(dtype='string', id=None),\n",
       " 'text': Value(dtype='string', id=None)}"
      ]
     },
     "execution_count": 6,
     "metadata": {},
     "output_type": "execute_result"
    }
   ],
   "source": [
    "fake.features"
   ]
  },
  {
   "cell_type": "code",
   "execution_count": 7,
   "id": "a4151eef-cf22-424d-994d-202eae7acf40",
   "metadata": {},
   "outputs": [
    {
     "name": "stderr",
     "output_type": "stream",
     "text": [
      "All PyTorch model weights were used when initializing TFBertForSequenceClassification.\n",
      "\n",
      "Some weights or buffers of the TF 2.0 model TFBertForSequenceClassification were not initialized from the PyTorch model and are newly initialized: ['classifier.weight', 'classifier.bias']\n",
      "You should probably TRAIN this model on a down-stream task to be able to use it for predictions and inference.\n"
     ]
    }
   ],
   "source": [
    "model = TFBertForSequenceClassification.from_pretrained('bert-base-uncased')"
   ]
  },
  {
   "cell_type": "code",
   "execution_count": 8,
   "id": "2b1c57cc-89d2-4d75-940f-b7e9852cf148",
   "metadata": {},
   "outputs": [
    {
     "name": "stderr",
     "output_type": "stream",
     "text": [
      "C:\\Users\\Anil\\AppData\\Roaming\\jupyterlab-desktop\\jlab_server\\lib\\site-packages\\transformers\\tokenization_utils_base.py:1601: FutureWarning: `clean_up_tokenization_spaces` was not set. It will be set to `True` by default. This behavior will be depracted in transformers v4.45, and will be then set to `False` by default. For more details check this issue: https://github.com/huggingface/transformers/issues/31884\n",
      "  warnings.warn(\n"
     ]
    }
   ],
   "source": [
    "tokenizer = BertTokenizerFast.from_pretrained('bert-base-uncased')"
   ]
  },
  {
   "cell_type": "code",
   "execution_count": 9,
   "id": "1190a1ec-278a-45c6-a88d-0b5c81ddf9a1",
   "metadata": {},
   "outputs": [],
   "source": [
    "def tokenization(data):\n",
    "    return tokenizer(data['title'], data['text'], padding = True, truncation = True, return_tensors = 'tf') #assuming both columns can be tokenized."
   ]
  },
  {
   "cell_type": "code",
   "execution_count": 10,
   "id": "38e8e1df-dba9-439d-b605-cba932409013",
   "metadata": {},
   "outputs": [
    {
     "data": {
      "application/vnd.jupyter.widget-view+json": {
       "model_id": "00a208365a36432999fa27705291e159",
       "version_major": 2,
       "version_minor": 0
      },
      "text/plain": [
       "Map:   0%|          | 0/10 [00:00<?, ? examples/s]"
      ]
     },
     "metadata": {},
     "output_type": "display_data"
    }
   ],
   "source": [
    "true_ds = true.map(tokenization, batched = True)"
   ]
  },
  {
   "cell_type": "code",
   "execution_count": 11,
   "id": "9b13f804-8142-4683-96b0-4a4b8613e795",
   "metadata": {},
   "outputs": [
    {
     "data": {
      "application/vnd.jupyter.widget-view+json": {
       "model_id": "bd850ef027194676a20e819d9b1a6e7c",
       "version_major": 2,
       "version_minor": 0
      },
      "text/plain": [
       "Map:   0%|          | 0/10 [00:00<?, ? examples/s]"
      ]
     },
     "metadata": {},
     "output_type": "display_data"
    }
   ],
   "source": [
    "fake_ds = fake.map(tokenization, batched = True)"
   ]
  },
  {
   "cell_type": "code",
   "execution_count": 12,
   "id": "786a9fdf-26d3-42cb-b5a4-704cdeb034bf",
   "metadata": {},
   "outputs": [
    {
     "data": {
      "text/plain": [
       "Dataset({\n",
       "    features: ['title', 'text', 'input_ids', 'token_type_ids', 'attention_mask'],\n",
       "    num_rows: 10\n",
       "})"
      ]
     },
     "execution_count": 12,
     "metadata": {},
     "output_type": "execute_result"
    }
   ],
   "source": [
    "true_ds"
   ]
  },
  {
   "cell_type": "code",
   "execution_count": 13,
   "id": "ed30637d-6fd4-425f-86cc-3625bba7ff3c",
   "metadata": {},
   "outputs": [],
   "source": [
    "fake_ds = fake_ds.add_column(name = 'target' , column = np.full(shape = fake.num_rows, fill_value = 0))"
   ]
  },
  {
   "cell_type": "code",
   "execution_count": 14,
   "id": "573d0806-1d39-4851-bdbc-3567fafe0a3d",
   "metadata": {},
   "outputs": [],
   "source": [
    "true_ds = true_ds.add_column(name = 'target' , column = np.full(shape = true.num_rows, fill_value = 1))"
   ]
  },
  {
   "cell_type": "code",
   "execution_count": 15,
   "id": "98d459ae-0764-4322-a6c4-6f15868ea9e0",
   "metadata": {},
   "outputs": [],
   "source": [
    "ds = concatenate_datasets([fake_ds, true_ds])"
   ]
  },
  {
   "cell_type": "code",
   "execution_count": 16,
   "id": "614f9f07-b19a-46a8-a1a1-318a325599e8",
   "metadata": {},
   "outputs": [
    {
     "data": {
      "text/plain": [
       "Dataset({\n",
       "    features: ['title', 'text', 'input_ids', 'token_type_ids', 'attention_mask', 'target'],\n",
       "    num_rows: 20\n",
       "})"
      ]
     },
     "execution_count": 16,
     "metadata": {},
     "output_type": "execute_result"
    }
   ],
   "source": [
    "ds"
   ]
  },
  {
   "cell_type": "code",
   "execution_count": 17,
   "id": "0b71c6e3-b7a2-44c4-8ca3-3d0c2af916b1",
   "metadata": {},
   "outputs": [],
   "source": [
    "ds = ds.train_test_split(test_size = 0.3, shuffle = True, seed = 42)"
   ]
  },
  {
   "cell_type": "code",
   "execution_count": 18,
   "id": "9f77ff46-68d9-4f5b-8bfb-ce42900d1c7f",
   "metadata": {},
   "outputs": [
    {
     "data": {
      "text/plain": [
       "DatasetDict({\n",
       "    train: Dataset({\n",
       "        features: ['title', 'text', 'input_ids', 'token_type_ids', 'attention_mask', 'target'],\n",
       "        num_rows: 14\n",
       "    })\n",
       "    test: Dataset({\n",
       "        features: ['title', 'text', 'input_ids', 'token_type_ids', 'attention_mask', 'target'],\n",
       "        num_rows: 6\n",
       "    })\n",
       "})"
      ]
     },
     "execution_count": 18,
     "metadata": {},
     "output_type": "execute_result"
    }
   ],
   "source": [
    "ds"
   ]
  },
  {
   "cell_type": "code",
   "execution_count": 19,
   "id": "8c05fc4f-deda-4010-a779-fd7343437db5",
   "metadata": {},
   "outputs": [
    {
     "data": {
      "text/plain": [
       "Dataset({\n",
       "    features: ['title', 'text', 'input_ids', 'token_type_ids', 'attention_mask', 'target'],\n",
       "    num_rows: 14\n",
       "})"
      ]
     },
     "execution_count": 19,
     "metadata": {},
     "output_type": "execute_result"
    }
   ],
   "source": [
    "ds['train']"
   ]
  },
  {
   "cell_type": "code",
   "execution_count": 20,
   "id": "ad4945c5-ec26-42f9-b808-ba4b86111f12",
   "metadata": {},
   "outputs": [
    {
     "name": "stderr",
     "output_type": "stream",
     "text": [
      "C:\\Users\\Anil\\AppData\\Roaming\\jupyterlab-desktop\\jlab_server\\lib\\site-packages\\datasets\\arrow_dataset.py:410: FutureWarning: The output of `to_tf_dataset` will change when a passing single element list for `labels` or `columns` in the next datasets version. To return a tuple structure rather than dict, pass a single string.\n",
      "Old behaviour: columns=['a'], labels=['labels'] -> (tf.Tensor, tf.Tensor)  \n",
      "             : columns='a', labels='labels' -> (tf.Tensor, tf.Tensor)  \n",
      "New behaviour: columns=['a'],labels=['labels'] -> ({'a': tf.Tensor}, {'labels': tf.Tensor})  \n",
      "             : columns='a', labels='labels' -> (tf.Tensor, tf.Tensor) \n",
      "  warnings.warn(\n"
     ]
    }
   ],
   "source": [
    "from transformers import DataCollatorWithPadding\n",
    "\n",
    "data_collator = DataCollatorWithPadding(tokenizer = tokenizer, return_tensors = \"tf\")\n",
    "\n",
    "train_set = ds['train'].to_tf_dataset(\n",
    "    columns=[\"input_ids\", \"token_type_ids\", \"attention_mask\"],\n",
    "    label_cols=[\"target\"],\n",
    "    batch_size=4,\n",
    "    collate_fn=data_collator,\n",
    "    shuffle=True\n",
    ")\n",
    "\n",
    "test_set = ds['test'].to_tf_dataset(\n",
    "    columns=[\"input_ids\", \"token_type_ids\", \"attention_mask\"],\n",
    "    label_cols=[\"target\"],\n",
    "    batch_size=4,\n",
    "    collate_fn=data_collator,\n",
    "    shuffle=True\n",
    ")"
   ]
  },
  {
   "cell_type": "code",
   "execution_count": 21,
   "id": "653a8fc9-b5ab-4cb7-a1cd-0223613804b5",
   "metadata": {},
   "outputs": [],
   "source": [
    "from transformers import AdamWeightDecay\n",
    "\n",
    "optimizer = AdamWeightDecay(learning_rate=2e-5)\n",
    "loss = tf.keras.losses.BinaryCrossentropy()\n",
    "metrics = tf.metrics.BinaryAccuracy()\n",
    "model.compile(optimizer = optimizer, loss = loss, metrics = metrics)"
   ]
  },
  {
   "cell_type": "code",
   "execution_count": 22,
   "id": "3f94ede5-a6cc-4e18-a872-a158a7fb1e06",
   "metadata": {},
   "outputs": [
    {
     "name": "stdout",
     "output_type": "stream",
     "text": [
      "Epoch 1/5\n",
      "4/4 [==============================] - 35s 6s/step - loss: 3.7183 - binary_accuracy: 0.4286 - val_loss: 5.4732 - val_binary_accuracy: 0.3333\n",
      "Epoch 2/5\n",
      "4/4 [==============================] - 21s 5s/step - loss: 3.5914 - binary_accuracy: 0.6429 - val_loss: 5.4480 - val_binary_accuracy: 0.4167\n",
      "Epoch 3/5\n",
      "4/4 [==============================] - 22s 6s/step - loss: 3.5352 - binary_accuracy: 0.7143 - val_loss: 5.2166 - val_binary_accuracy: 0.6667\n",
      "Epoch 4/5\n",
      "4/4 [==============================] - 22s 5s/step - loss: 3.3672 - binary_accuracy: 0.7500 - val_loss: 1.9590 - val_binary_accuracy: 0.6667\n",
      "Epoch 5/5\n",
      "4/4 [==============================] - 21s 5s/step - loss: 1.3110 - binary_accuracy: 0.7857 - val_loss: 0.0870 - val_binary_accuracy: 1.0000\n"
     ]
    }
   ],
   "source": [
    "bert_history = model.fit(train_set, epochs = 5, validation_data = test_set)"
   ]
  },
  {
   "cell_type": "code",
   "execution_count": 26,
   "id": "b65c11ae-7489-4e28-a91f-db67208cecc6",
   "metadata": {},
   "outputs": [
    {
     "name": "stdout",
     "output_type": "stream",
     "text": [
      "dict_keys(['loss', 'binary_accuracy', 'val_loss', 'val_binary_accuracy'])\n"
     ]
    },
    {
     "data": {
      "text/plain": [
       "<matplotlib.legend.Legend at 0x25883d49e50>"
      ]
     },
     "execution_count": 26,
     "metadata": {},
     "output_type": "execute_result"
    },
    {
     "data": {
      "image/png": "[encoded data removed]",
      "text/plain": [
       "<Figure size 1000x600 with 2 Axes>"
      ]
     },
     "metadata": {},
     "output_type": "display_data"
    }
   ],
   "source": [
    "import matplotlib.pyplot as plt\n",
    "%matplotlib inline\n",
    "\n",
    "history_dict = bert_history.history\n",
    "print(history_dict.keys())\n",
    "\n",
    "acc = history_dict['binary_accuracy']\n",
    "val_acc = history_dict['val_binary_accuracy']\n",
    "loss = history_dict['loss']\n",
    "val_loss = history_dict['val_loss']\n",
    "\n",
    "epochs = range(1, len(acc) + 1)\n",
    "fig = plt.figure(figsize=(10, 6))\n",
    "fig.tight_layout()\n",
    "\n",
    "plt.subplot(2, 1, 1)\n",
    "plt.plot(epochs, loss, 'r', linestyle=\"dashed\",label='Training loss')\n",
    "plt.plot(epochs, val_loss, 'b', label='Validation loss')\n",
    "plt.title('Training and validation loss')\n",
    "plt.ylabel('Loss')\n",
    "plt.legend()\n",
    "\n",
    "plt.subplot(2, 1, 2)\n",
    "plt.plot(epochs, acc, 'r', linestyle=\"dashed\",label='Training acc')\n",
    "plt.plot(epochs, val_acc, 'b', label='Validation acc')\n",
    "plt.title('Training and validation accuracy')\n",
    "plt.xlabel('Epochs')\n",
    "plt.ylabel('Accuracy')\n",
    "plt.legend(loc='lower right')"
   ]
  },
  {
   "cell_type": "code",
   "execution_count": 25,
   "id": "eb8b4cec-ccbc-4c15-84ce-9ec7dd8c225a",
   "metadata": {},
   "outputs": [
    {
     "name": "stdout",
     "output_type": "stream",
     "text": [
      "2/2 [==============================] - 2s 787ms/step - loss: 0.0870 - binary_accuracy: 1.0000\n"
     ]
    },
    {
     "data": {
      "text/plain": [
       "[0.0869753286242485, 1.0]"
      ]
     },
     "execution_count": 25,
     "metadata": {},
     "output_type": "execute_result"
    }
   ],
   "source": [
    "model.evaluate(test_set)"
   ]
  },
  {
   "cell_type": "markdown",
   "id": "1efbd010-33b1-47bb-9e86-9148fd425161",
   "metadata": {},
   "source": [
    "# Fine-tuning using TFTrainer and TFTrainingArguments can be tried in addition to using models like XLNet and T5 and using data augmentation methods, adaptive tuning, PETF methods etc."
   ]
  }
 ],
 "metadata": {
  "kernelspec": {
   "display_name": "Python 3 (ipykernel)",
   "language": "python",
   "name": "python3"
  },
  "language_info": {
   "codemirror_mode": {
    "name": "ipython",
    "version": 3
   },
   "file_extension": ".py",
   "mimetype": "text/x-python",
   "name": "python",
   "nbconvert_exporter": "python",
   "pygments_lexer": "ipython3",
   "version": "3.12.5"
  }
 },
 "nbformat": 4,
 "nbformat_minor": 5
}
