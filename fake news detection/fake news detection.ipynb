{
 "cells": [
  {
   "cell_type": "code",
   "execution_count": null,
   "metadata": {},
   "outputs": [],
   "source": [
    "import modin.pandas as pd\n",
    "from modin.config import ProgressBar\n",
    "\n",
    "ProgressBar.enable()\n",
    "import ray\n",
    "\n",
    "ray.init() # Start the Ray runtime for single-node"
   ]
  },
  {
   "cell_type": "code",
   "execution_count": null,
   "metadata": {},
   "outputs": [],
   "source": [
    "df_fake = pd.read_csv(\"fake.csv\", nrows=10)\n",
    "df_true = pd.read_csv(\"true.csv\", nrows=10)"
   ]
  },
  {
   "cell_type": "code",
   "execution_count": null,
   "metadata": {},
   "outputs": [],
   "source": [
    "df_fake"
   ]
  },
  {
   "cell_type": "code",
   "execution_count": null,
   "metadata": {},
   "outputs": [],
   "source": [
    "df_true"
   ]
  },
  {
   "cell_type": "code",
   "execution_count": null,
   "metadata": {},
   "outputs": [],
   "source": [
    "df_fake.drop(columns=df_fake.columns[2:4].tolist(), inplace=True)"
   ]
  },
  {
   "cell_type": "code",
   "execution_count": null,
   "metadata": {},
   "outputs": [],
   "source": [
    "df_true.drop(columns=df_true.columns[2:4].tolist(), inplace=True)"
   ]
  },
  {
   "cell_type": "code",
   "execution_count": null,
   "metadata": {},
   "outputs": [],
   "source": [
    "df_fake[\"target\"] = 0\n",
    "df_true[\"target\"] = 1"
   ]
  },
  {
   "cell_type": "code",
   "execution_count": null,
   "metadata": {},
   "outputs": [],
   "source": [
    "df = pd.concat([df_fake, df_true], ignore_index=True)\n",
    "df"
   ]
  },
  {
   "cell_type": "code",
   "execution_count": null,
   "metadata": {},
   "outputs": [],
   "source": [
    "from nltk.corpus import stopwords\n",
    "from nltk import word_tokenize\n",
    "from nltk.stem import SnowballStemmer\n",
    "from autocorrect import Speller\n",
    "from string import punctuation\n",
    "import string\n",
    "\n",
    "stop_words = set(stopwords.words(\"english\"))\n",
    "#spell = Speller(lang=\"en\")\n",
    "stemmer = SnowballStemmer(\"english\")\n",
    "punctuation += \"’\"\n",
    "\n",
    "\n",
    "def preprocess_corpus(text):\n",
    "    \n",
    "    tokens = word_tokenize(text)\n",
    "    tokens = [token.lower() for token in tokens]\n",
    "#    tokens = [spell(token) for token in tokens]\n",
    "    tokens = [token for token in tokens if token not in punctuation]\n",
    "    tokens = [token for token in tokens if token not in stop_words]\n",
    "    tokens = [token for token in tokens if not token.isdigit()]\n",
    "    tokens = [stemmer.stem(token) for token in tokens]\n",
    "    return tokens"
   ]
  },
  {
   "cell_type": "code",
   "execution_count": null,
   "metadata": {},
   "outputs": [],
   "source": [
    "new_df = pd.DataFrame(columns=[\"title\", \"text\"])"
   ]
  },
  {
   "cell_type": "code",
   "execution_count": null,
   "metadata": {},
   "outputs": [],
   "source": [
    "new_df[\"title\"] = df[\"title\"].map(preprocess_corpus)"
   ]
  },
  {
   "cell_type": "code",
   "execution_count": null,
   "metadata": {},
   "outputs": [],
   "source": [
    "new_df[\"text\"] = df[\"text\"].map(preprocess_corpus)"
   ]
  },
  {
   "cell_type": "code",
   "execution_count": null,
   "metadata": {},
   "outputs": [],
   "source": [
    "new_df"
   ]
  },
  {
   "cell_type": "code",
   "execution_count": null,
   "metadata": {},
   "outputs": [],
   "source": [
    "###################"
   ]
  },
  {
   "cell_type": "code",
   "execution_count": null,
   "metadata": {},
   "outputs": [],
   "source": [
    "from gensim.models import Word2Vec, KeyedVectors  \n",
    "\n",
    "path = \"GoogleNews-vectors-negative300.bin.gz\"\n",
    "model = KeyedVectors.load_word2vec_format(path, binary=True)"
   ]
  },
  {
   "cell_type": "code",
   "execution_count": null,
   "metadata": {},
   "outputs": [],
   "source": [
    "import numpy as np\n",
    "\n",
    "\n",
    "def sentence_vector(sentence): # result is a (1,300) vector\n",
    "    word_vectors = []\n",
    "    for word in sentence:\n",
    "        try:\n",
    "            word_vector = model.get_vector(word.lower())\n",
    "            word_vectors.append(word_vector)\n",
    "        except KeyError:\n",
    "            continue\n",
    "    matrix = np.array(word_vectors)\n",
    "    avg = np.mean(matrix[:, :], axis=0)\n",
    "    return avg\n",
    "\n",
    "def get_vector_array(ColName):\n",
    "    working_series = new_df[ColName].map(sentence_vector)\n",
    "    arr = np.array([])\n",
    "    for i in working_series:\n",
    "        arr = np.append(arr, i)\n",
    "    return arr.reshape(int(arr.shape[0]/300), 300)"
   ]
  },
  {
   "cell_type": "code",
   "execution_count": null,
   "metadata": {},
   "outputs": [],
   "source": [
    "title = get_vector_array(\"title\")"
   ]
  },
  {
   "cell_type": "code",
   "execution_count": null,
   "metadata": {},
   "outputs": [],
   "source": [
    "title"
   ]
  },
  {
   "cell_type": "code",
   "execution_count": null,
   "metadata": {},
   "outputs": [],
   "source": [
    "title.shape"
   ]
  },
  {
   "cell_type": "code",
   "execution_count": null,
   "metadata": {},
   "outputs": [],
   "source": [
    "text = get_vector_array(\"text\")"
   ]
  },
  {
   "cell_type": "code",
   "execution_count": null,
   "metadata": {},
   "outputs": [],
   "source": [
    "X = np.hstack((title, text))\n",
    "y = df[['target']].values\n"
   ]
  },
  {
   "cell_type": "code",
   "execution_count": null,
   "metadata": {},
   "outputs": [],
   "source": [
    "X.shape"
   ]
  },
  {
   "cell_type": "code",
   "execution_count": null,
   "metadata": {},
   "outputs": [],
   "source": [
    "from sklearn.model_selection import train_test_split\n",
    "\n",
    "X_train, X_valid_test, y_train, y_valid_test = train_test_split(\n",
    "    X, y, test_size=0.33, shuffle = True, random_state=42)\n",
    "\n",
    "X_valid, X_test, y_valid, y_test = train_test_split(\n",
    "    X_valid_test, y_valid_test, test_size=0.5, shuffle = True, random_state=42)"
   ]
  },
  {
   "cell_type": "code",
   "execution_count": null,
   "metadata": {},
   "outputs": [],
   "source": [
    "from sklearn.preprocessing import StandardScaler\n",
    "\n",
    "scaler = StandardScaler()\n",
    "scaler.fit(X_train)\n",
    "X_train_scaled = scaler.transform(X_train)\n",
    "X_valid_scaled = scaler.transform(X_valid)\n",
    "X_test_scaled = scaler.transform(X_test)"
   ]
  },
  {
   "cell_type": "code",
   "execution_count": null,
   "metadata": {},
   "outputs": [],
   "source": []
  },
  {
   "cell_type": "code",
   "execution_count": null,
   "metadata": {},
   "outputs": [],
   "source": [
    "from sklearn.decomposition import PCA\n",
    "\n",
    "# for simplicity, omit using cross validation with an estimator. Instead use elbow method to select the optimal number of PCA components \n",
    "pca = PCA(n_components = None)\n",
    "pca.fit(X_train_scaled)"
   ]
  },
  {
   "cell_type": "code",
   "execution_count": null,
   "metadata": {},
   "outputs": [],
   "source": [
    "import matplotlib.pyplot as plt\n",
    "\n",
    "plt.plot(np.cumsum(pca.explained_variance_ratio_))\n",
    "plt.title('Percentage of Variance Explained')\n",
    "plt.xlabel('Number of Components')\n",
    "plt.ylabel('Percentage of Variance Explained')\n",
    "plt.show()"
   ]
  },
  {
   "cell_type": "code",
   "execution_count": null,
   "metadata": {},
   "outputs": [],
   "source": [
    "# use ? pca components\n",
    "pca = PCA(n_components = ?)\n",
    "pca.fit(X_train_scaled)\n",
    "X_train_pca = pca.transform(X_train_scaled)\n",
    "X_valid_pca = pca.transform(X_valid_scaled)\n",
    "X_test_pca = pca.transform(X_test_scaled)"
   ]
  },
  {
   "cell_type": "code",
   "execution_count": null,
   "metadata": {},
   "outputs": [],
   "source": [
    "import modin.experimental.xgboost as xgb\n",
    "\n",
    "# Create Modin DataFrames as modin's xgboost implementation expects dataframes for its dmatrix\n",
    "X_train_pca_df = pd.DataFrame(X_train_pca)\n",
    "X_valid_pca_df = pd.DataFrame(X_valid_pca)\n",
    "X_test_pca_df = pd.DataFrame(X_test_pca)\n",
    "y_train_df = pd.DataFrame(y_train)\n",
    "y_valid_df = pd.DataFrame(y_valid)\n",
    "y_test_df = pd.DataFrame(y_test)\n",
    "\n",
    "# Create DMatrix\n",
    "dtrain = xgb.DMatrix(X_train_pca_df, y_train_df)\n",
    "dvalid = xgb.DMatrix(X_valid_pca_df, y_valid_df)\n",
    "dtest = xgb.DMatrix(X_test_pca_df, y_test_df)\n",
    "\n",
    "# Set training parameters\n",
    "xgb_params = {\n",
    "    \"eta\": 0.3,\n",
    "    \"max_depth\": 3,\n",
    "    \"objective\": \"binary:logistic\",\n",
    "    \"num_class\": 2,\n",
    "    \"eval_metric\": \"logloss\",\n",
    "}\n",
    "steps = 20\n",
    "\n",
    "# Create dict for evaluation results\n",
    "evals_result = dict()\n",
    "\n",
    "# Run training\n",
    "model = xgb.train(\n",
    "    xgb_params,\n",
    "    dtrain,\n",
    "    steps,\n",
    "    evals=[(dvalid, \"\")],\n",
    "    evals_result=evals_result\n",
    ")\n",
    "\n",
    "# Print evaluation results\n",
    "print(f'Evals results:\\n{evals_result}')\n",
    "\n",
    "# Predict results\n",
    "prediction = model.predict(dtest)\n",
    "\n",
    "# Print prediction results\n",
    "print(f'Prediction results:\\n{prediction}')"
   ]
  }
 ],
 "metadata": {
  "kernelspec": {
   "display_name": "Python 3 (ipykernel)",
   "language": "python",
   "name": "python3"
  },
  "language_info": {
   "codemirror_mode": {
    "name": "ipython",
    "version": 3
   },
   "file_extension": ".py",
   "mimetype": "text/x-python",
   "name": "python",
   "nbconvert_exporter": "python",
   "pygments_lexer": "ipython3",
   "version": "3.12.5"
  }
 },
 "nbformat": 4,
 "nbformat_minor": 4
}
